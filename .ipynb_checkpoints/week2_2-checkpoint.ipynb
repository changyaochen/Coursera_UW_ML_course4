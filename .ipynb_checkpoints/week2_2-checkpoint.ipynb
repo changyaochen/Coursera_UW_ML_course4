{
 "cells": [
  {
   "cell_type": "code",
   "execution_count": 100,
   "metadata": {
    "collapsed": true
   },
   "outputs": [],
   "source": [
    "# python3.6\n",
    "import numpy as np                                             # dense matrices\n",
    "from scipy.sparse import csr_matrix                            # sparse matrices\n",
    "from sklearn.metrics.pairwise import pairwise_distances        # pairwise distances\n",
    "from copy import copy                                          # deep copies\n",
    "import matplotlib.pyplot as plt                                # plotting\n",
    "import pandas as pd\n",
    "import json, time\n",
    "%matplotlib inline\n",
    "\n",
    "'''compute norm of a sparse vector\n",
    "   Thanks to: Jaiyam Sharma'''\n",
    "def norm(x):\n",
    "    sum_sq=x.dot(x.T)\n",
    "    norm=np.sqrt(sum_sq)\n",
    "    return(norm)\n",
    "\n",
    "def load_sparse_csr(filename):\n",
    "    \"\"\"\n",
    "    This function loads a numpy zipped file\n",
    "    and returns a sparse matrix\n",
    "    \n",
    "    csr_matrix((data, indices, indptr), [shape=(M, N)])\n",
    "        is the standard CSR representation where the column indices for row i are stored \n",
    "        in indices[indptr[i]:indptr[i+1]] and their corresponding values are stored in \n",
    "        data[indptr[i]:indptr[i+1]]. If the shape parameter is not supplied, the matrix \n",
    "        dimensions are inferred from the index arrays.\n",
    "    \n",
    "    See here for reference:\n",
    "    https://docs.scipy.org/doc/scipy/reference/generated/scipy.sparse.csr_matrix.html\n",
    "    \"\"\"\n",
    "    \n",
    "    loader = np.load(filename)\n",
    "    data = loader['data']\n",
    "    indices = loader['indices']\n",
    "    indptr = loader['indptr']\n",
    "    shape = loader['shape']\n",
    "    \n",
    "    return csr_matrix( (data, indices, indptr), shape)"
   ]
  },
  {
   "cell_type": "code",
   "execution_count": 4,
   "metadata": {
    "collapsed": false
   },
   "outputs": [
    {
     "name": "stdout",
     "output_type": "stream",
     "text": [
      "(59071, 3)\n"
     ]
    },
    {
     "data": {
      "text/html": [
       "<div>\n",
       "<style>\n",
       "    .dataframe thead tr:only-child th {\n",
       "        text-align: right;\n",
       "    }\n",
       "\n",
       "    .dataframe thead th {\n",
       "        text-align: left;\n",
       "    }\n",
       "\n",
       "    .dataframe tbody tr th {\n",
       "        vertical-align: top;\n",
       "    }\n",
       "</style>\n",
       "<table border=\"1\" class=\"dataframe\">\n",
       "  <thead>\n",
       "    <tr style=\"text-align: right;\">\n",
       "      <th></th>\n",
       "      <th>URI</th>\n",
       "      <th>name</th>\n",
       "      <th>text</th>\n",
       "    </tr>\n",
       "  </thead>\n",
       "  <tbody>\n",
       "    <tr>\n",
       "      <th>0</th>\n",
       "      <td>&lt;http://dbpedia.org/resource/Digby_Morrell&gt;</td>\n",
       "      <td>Digby Morrell</td>\n",
       "      <td>digby morrell born 10 october 1979 is a former...</td>\n",
       "    </tr>\n",
       "    <tr>\n",
       "      <th>1</th>\n",
       "      <td>&lt;http://dbpedia.org/resource/Alfred_J._Lewy&gt;</td>\n",
       "      <td>Alfred J. Lewy</td>\n",
       "      <td>alfred j lewy aka sandy lewy graduated from un...</td>\n",
       "    </tr>\n",
       "    <tr>\n",
       "      <th>2</th>\n",
       "      <td>&lt;http://dbpedia.org/resource/Harpdog_Brown&gt;</td>\n",
       "      <td>Harpdog Brown</td>\n",
       "      <td>harpdog brown is a singer and harmonica player...</td>\n",
       "    </tr>\n",
       "    <tr>\n",
       "      <th>3</th>\n",
       "      <td>&lt;http://dbpedia.org/resource/Franz_Rottensteiner&gt;</td>\n",
       "      <td>Franz Rottensteiner</td>\n",
       "      <td>franz rottensteiner born in waidmannsfeld lowe...</td>\n",
       "    </tr>\n",
       "    <tr>\n",
       "      <th>4</th>\n",
       "      <td>&lt;http://dbpedia.org/resource/G-Enka&gt;</td>\n",
       "      <td>G-Enka</td>\n",
       "      <td>henry krvits born 30 december 1974 in tallinn ...</td>\n",
       "    </tr>\n",
       "  </tbody>\n",
       "</table>\n",
       "</div>"
      ],
      "text/plain": [
       "                                                 URI                 name  \\\n",
       "0        <http://dbpedia.org/resource/Digby_Morrell>        Digby Morrell   \n",
       "1       <http://dbpedia.org/resource/Alfred_J._Lewy>       Alfred J. Lewy   \n",
       "2        <http://dbpedia.org/resource/Harpdog_Brown>        Harpdog Brown   \n",
       "3  <http://dbpedia.org/resource/Franz_Rottensteiner>  Franz Rottensteiner   \n",
       "4               <http://dbpedia.org/resource/G-Enka>               G-Enka   \n",
       "\n",
       "                                                text  \n",
       "0  digby morrell born 10 october 1979 is a former...  \n",
       "1  alfred j lewy aka sandy lewy graduated from un...  \n",
       "2  harpdog brown is a singer and harmonica player...  \n",
       "3  franz rottensteiner born in waidmannsfeld lowe...  \n",
       "4  henry krvits born 30 december 1974 in tallinn ...  "
      ]
     },
     "execution_count": 4,
     "metadata": {},
     "output_type": "execute_result"
    }
   ],
   "source": [
    "wiki = pd.read_csv('./people_wiki.csv')\n",
    "print(wiki.shape)\n",
    "wiki.head()"
   ]
  },
  {
   "cell_type": "code",
   "execution_count": 6,
   "metadata": {
    "collapsed": true
   },
   "outputs": [],
   "source": [
    "corpus = load_sparse_csr('people_wiki_tf_idf.npz')"
   ]
  },
  {
   "cell_type": "code",
   "execution_count": 9,
   "metadata": {
    "collapsed": false
   },
   "outputs": [
    {
     "data": {
      "text/html": [
       "<div>\n",
       "<style>\n",
       "    .dataframe thead tr:only-child th {\n",
       "        text-align: right;\n",
       "    }\n",
       "\n",
       "    .dataframe thead th {\n",
       "        text-align: left;\n",
       "    }\n",
       "\n",
       "    .dataframe tbody tr th {\n",
       "        vertical-align: top;\n",
       "    }\n",
       "</style>\n",
       "<table border=\"1\" class=\"dataframe\">\n",
       "  <thead>\n",
       "    <tr style=\"text-align: right;\">\n",
       "      <th></th>\n",
       "      <th>word</th>\n",
       "    </tr>\n",
       "  </thead>\n",
       "  <tbody>\n",
       "    <tr>\n",
       "      <th>0</th>\n",
       "      <td>bioarchaeologist</td>\n",
       "    </tr>\n",
       "    <tr>\n",
       "      <th>1</th>\n",
       "      <td>leaguehockey</td>\n",
       "    </tr>\n",
       "    <tr>\n",
       "      <th>2</th>\n",
       "      <td>electionruss</td>\n",
       "    </tr>\n",
       "    <tr>\n",
       "      <th>3</th>\n",
       "      <td>teramoto</td>\n",
       "    </tr>\n",
       "    <tr>\n",
       "      <th>4</th>\n",
       "      <td>trumpeterpercussionist</td>\n",
       "    </tr>\n",
       "  </tbody>\n",
       "</table>\n",
       "</div>"
      ],
      "text/plain": [
       "                     word\n",
       "0        bioarchaeologist\n",
       "1            leaguehockey\n",
       "2            electionruss\n",
       "3                teramoto\n",
       "4  trumpeterpercussionist"
      ]
     },
     "execution_count": 9,
     "metadata": {},
     "output_type": "execute_result"
    }
   ],
   "source": [
    "with open('./people_wiki_map_index_to_word.json', 'r') as f:\n",
    "    data = json.load(f)\n",
    "map_index_to_word = pd.DataFrame({'word': {v: k for k, v in data.items()}}).sort_index()\n",
    "\n",
    "map_index_to_word.head()"
   ]
  },
  {
   "cell_type": "code",
   "execution_count": 10,
   "metadata": {
    "collapsed": false
   },
   "outputs": [
    {
     "name": "stdout",
     "output_type": "stream",
     "text": [
      "(547979, 16)\n"
     ]
    }
   ],
   "source": [
    "def generate_random_vectors(num_vector, dim):\n",
    "    return np.random.randn(dim, num_vector)\n",
    "\n",
    "# Generate 16 random vectors of dimension 547979\n",
    "np.random.seed(0)\n",
    "random_vectors = generate_random_vectors(num_vector=16, dim=547979)\n",
    "print(random_vectors.shape)"
   ]
  },
  {
   "cell_type": "code",
   "execution_count": 12,
   "metadata": {
    "collapsed": false
   },
   "outputs": [
    {
     "data": {
      "text/plain": [
       "array([ 1.76405235,  0.40015721,  0.97873798,  2.2408932 ,  1.86755799,\n",
       "       -0.97727788,  0.95008842, -0.15135721, -0.10321885,  0.4105985 ,\n",
       "        0.14404357,  1.45427351,  0.76103773,  0.12167502,  0.44386323,\n",
       "        0.33367433])"
      ]
     },
     "execution_count": 12,
     "metadata": {},
     "output_type": "execute_result"
    }
   ],
   "source": [
    "random_vectors[0]"
   ]
  },
  {
   "cell_type": "code",
   "execution_count": 17,
   "metadata": {
    "collapsed": false
   },
   "outputs": [
    {
     "name": "stdout",
     "output_type": "stream",
     "text": [
      "[[1 1 0 0 0 1 1 0 1 1 1 0 0 1 0 1]]\n"
     ]
    }
   ],
   "source": [
    "doc = corpus[0, :] # vector of tf-idf values for document 0\n",
    "print(np.array(doc.dot(random_vectors) >= 0, dtype=int)) # assignment of the first doc"
   ]
  },
  {
   "cell_type": "code",
   "execution_count": 18,
   "metadata": {
    "collapsed": false
   },
   "outputs": [
    {
     "name": "stdout",
     "output_type": "stream",
     "text": [
      "[[1 1 0 ..., 1 0 1]\n",
      " [1 0 0 ..., 0 0 1]\n",
      " [0 1 0 ..., 1 0 1]\n",
      " ..., \n",
      " [1 1 0 ..., 1 1 1]\n",
      " [0 1 1 ..., 1 0 1]\n",
      " [1 0 1 ..., 0 0 1]]\n"
     ]
    }
   ],
   "source": [
    "print(np.array(corpus.dot(random_vectors) >= 0, dtype=int))  # assignements of ALL documents"
   ]
  },
  {
   "cell_type": "code",
   "execution_count": 21,
   "metadata": {
    "collapsed": false
   },
   "outputs": [
    {
     "name": "stdout",
     "output_type": "stream",
     "text": [
      "[50917]\n"
     ]
    }
   ],
   "source": [
    "index_bits = (doc.dot(random_vectors) >= 0)\n",
    "powers_of_two = (1 << np.arange(15, -1, -1))\n",
    "print(index_bits.dot(powers_of_two))"
   ]
  },
  {
   "cell_type": "code",
   "execution_count": 26,
   "metadata": {
    "collapsed": false
   },
   "outputs": [
    {
     "data": {
      "text/plain": [
       "(38042, 16)"
      ]
     },
     "execution_count": 26,
     "metadata": {},
     "output_type": "execute_result"
    }
   ],
   "source": [
    "np.unique((np.array(corpus.dot(random_vectors) >= 0, dtype=int)), axis=0).shape"
   ]
  },
  {
   "cell_type": "code",
   "execution_count": 27,
   "metadata": {
    "collapsed": false
   },
   "outputs": [
    {
     "data": {
      "text/plain": [
       "(59071, 16)"
      ]
     },
     "execution_count": 27,
     "metadata": {},
     "output_type": "execute_result"
    }
   ],
   "source": [
    "(np.array(corpus.dot(random_vectors) >= 0, dtype=int)).shape"
   ]
  },
  {
   "cell_type": "code",
   "execution_count": 41,
   "metadata": {
    "collapsed": false
   },
   "outputs": [
    {
     "name": "stdout",
     "output_type": "stream",
     "text": [
      "Passed!\n"
     ]
    }
   ],
   "source": [
    "def train_lsh(data, num_vector=16, seed=None):\n",
    "    \n",
    "    dim = data.shape[1]\n",
    "    if seed is not None:\n",
    "        np.random.seed(seed)\n",
    "    random_vectors = generate_random_vectors(num_vector, dim)\n",
    "  \n",
    "    powers_of_two = 1 << np.arange(num_vector-1, -1, -1)\n",
    "  \n",
    "    table = {}\n",
    "    \n",
    "    # Partition data points into bins\n",
    "    bin_index_bits = (data.dot(random_vectors) >= 0)\n",
    "  \n",
    "    # Encode bin index bits into integers\n",
    "    bin_indices = bin_index_bits.dot(powers_of_two)  # just the decimal repr of the bin_index_bits\n",
    "    \n",
    "    table = {}\n",
    "    # Update `table` so that `table[i]` is the list of document ids with bin index equal to i.\n",
    "    for data_index, bin_index in enumerate(bin_indices):\n",
    "        if bin_index not in table:\n",
    "            # If no list yet exists for this bin, assign the bin an empty list.\n",
    "            table[bin_index] = []\n",
    "        # Fetch the list of document ids associated with the bin and add the document id to the end.\n",
    "        table[bin_index].append(data_index)\n",
    "\n",
    "    model = {'data': data,\n",
    "             'bin_index_bits': bin_index_bits,\n",
    "             'bin_indices': bin_indices,\n",
    "             'table': table,\n",
    "             'random_vectors': random_vectors,\n",
    "             'num_vector': num_vector}\n",
    "    \n",
    "    return model\n",
    "\n",
    "model = train_lsh(corpus, num_vector=16, seed=143)\n",
    "table = model['table']\n",
    "if (0 in table) & (table[0]   == [39583]) and (143 in table) and (table[143] == [19693, 28277, 29776, 30399]):\n",
    "    print('Passed!')\n",
    "else:\n",
    "    print('Check your code.')"
   ]
  },
  {
   "cell_type": "code",
   "execution_count": 44,
   "metadata": {
    "collapsed": false
   },
   "outputs": [
    {
     "data": {
      "text/html": [
       "<div>\n",
       "<style>\n",
       "    .dataframe thead tr:only-child th {\n",
       "        text-align: right;\n",
       "    }\n",
       "\n",
       "    .dataframe thead th {\n",
       "        text-align: left;\n",
       "    }\n",
       "\n",
       "    .dataframe tbody tr th {\n",
       "        vertical-align: top;\n",
       "    }\n",
       "</style>\n",
       "<table border=\"1\" class=\"dataframe\">\n",
       "  <thead>\n",
       "    <tr style=\"text-align: right;\">\n",
       "      <th></th>\n",
       "      <th>URI</th>\n",
       "      <th>name</th>\n",
       "      <th>text</th>\n",
       "    </tr>\n",
       "  </thead>\n",
       "  <tbody>\n",
       "    <tr>\n",
       "      <th>35817</th>\n",
       "      <td>&lt;http://dbpedia.org/resource/Barack_Obama&gt;</td>\n",
       "      <td>Barack Obama</td>\n",
       "      <td>barack hussein obama ii brk husen bm born augu...</td>\n",
       "    </tr>\n",
       "  </tbody>\n",
       "</table>\n",
       "</div>"
      ],
      "text/plain": [
       "                                              URI          name  \\\n",
       "35817  <http://dbpedia.org/resource/Barack_Obama>  Barack Obama   \n",
       "\n",
       "                                                    text  \n",
       "35817  barack hussein obama ii brk husen bm born augu...  "
      ]
     },
     "execution_count": 44,
     "metadata": {},
     "output_type": "execute_result"
    }
   ],
   "source": [
    "wiki[wiki['name'] == 'Barack Obama']"
   ]
  },
  {
   "cell_type": "markdown",
   "metadata": {},
   "source": [
    "**Quiz Question**. What is the document id of Barack Obama's article?\n",
    "\n",
    "**Quiz Question**. Which bin contains Barack Obama's article? Enter its integer index.\n",
    "Recall from the previous assignment that Joe Biden was a close neighbor of Barack Obama.\n",
    "\n",
    "**Quiz Question**. Examine the bit representations of the bins containing Barack Obama and Joe Biden. In how many places do they agree?"
   ]
  },
  {
   "cell_type": "code",
   "execution_count": 111,
   "metadata": {
    "collapsed": false
   },
   "outputs": [
    {
     "name": "stdout",
     "output_type": "stream",
     "text": [
      "                                              URI          name  \\\n",
      "35817  <http://dbpedia.org/resource/Barack_Obama>  Barack Obama   \n",
      "\n",
      "                                                    text  \n",
      "35817  barack hussein obama ii brk husen bm born augu...  \n",
      "50194\n"
     ]
    }
   ],
   "source": [
    "print(wiki[wiki['name'] == 'Barack Obama'])\n",
    "print(model['bin_indices'][35817])\n",
    "bin_index_bits_obama = model['bin_index_bits'][35817]"
   ]
  },
  {
   "cell_type": "code",
   "execution_count": 113,
   "metadata": {
    "collapsed": false
   },
   "outputs": [
    {
     "name": "stdout",
     "output_type": "stream",
     "text": [
      "                                           URI       name  \\\n",
      "24478  <http://dbpedia.org/resource/Joe_Biden>  Joe Biden   \n",
      "\n",
      "                                                    text  \n",
      "24478  joseph robinette joe biden jr dosf rbnt badn b...  \n"
     ]
    }
   ],
   "source": [
    "print(wiki[wiki['name'] == 'Joe Biden'])\n",
    "bin_index_bits_biden = model['bin_index_bits'][24478]"
   ]
  },
  {
   "cell_type": "code",
   "execution_count": 115,
   "metadata": {
    "collapsed": false
   },
   "outputs": [
    {
     "data": {
      "text/plain": [
       "14"
      ]
     },
     "execution_count": 115,
     "metadata": {},
     "output_type": "execute_result"
    }
   ],
   "source": [
    "sum(bin_index_bits_biden == bin_index_bits_obama)"
   ]
  },
  {
   "cell_type": "code",
   "execution_count": 70,
   "metadata": {
    "collapsed": false
   },
   "outputs": [
    {
     "data": {
      "text/plain": [
       "array([False, False,  True, False,  True, False, False,  True,  True,\n",
       "        True, False,  True,  True, False, False,  True], dtype=bool)"
      ]
     },
     "execution_count": 70,
     "metadata": {},
     "output_type": "execute_result"
    }
   ],
   "source": [
    "model['bin_index_bits'][35817] == model['bin_index_bits'][22745]"
   ]
  },
  {
   "cell_type": "markdown",
   "metadata": {},
   "source": [
    "## Query LSH model"
   ]
  },
  {
   "cell_type": "code",
   "execution_count": 74,
   "metadata": {
    "collapsed": false
   },
   "outputs": [
    {
     "name": "stdout",
     "output_type": "stream",
     "text": [
      "560\n"
     ]
    }
   ],
   "source": [
    "from itertools import combinations\n",
    "\n",
    "num_vector = 16\n",
    "search_radius = 3\n",
    "cnt = 0\n",
    "for diff in combinations(range(num_vector), search_radius):\n",
    "    cnt += 1\n",
    "print(cnt)"
   ]
  },
  {
   "cell_type": "code",
   "execution_count": 81,
   "metadata": {
    "collapsed": false
   },
   "outputs": [],
   "source": [
    "def search_nearby_bins(query_bin_bits, table, search_radius=2, initial_candidates=set()):\n",
    "    \"\"\"\n",
    "    For a given query vector and trained LSH model, return all candidate neighbors for\n",
    "    the query among all bins within the given search radius.\n",
    "    \n",
    "    Example usage\n",
    "    -------------\n",
    "    >>> model = train_lsh(corpus, num_vector=16, seed=143)\n",
    "    >>> q = model['bin_index_bits'][0]  # vector for the first document\n",
    "  \n",
    "    >>> candidates = search_nearby_bins(q, model['table'])\n",
    "    \"\"\"\n",
    "    num_vector = len(query_bin_bits)\n",
    "    powers_of_two = 1 << np.arange(num_vector-1, -1, -1)\n",
    "    \n",
    "    # Allow the user to provide an initial set of candidates.\n",
    "    candidate_set = copy(initial_candidates)\n",
    "    \n",
    "    for different_bits in combinations(range(num_vector), search_radius):       \n",
    "        # Flip the bits (n_1,n_2,...,n_r) of the query bin to produce a new bit vector.\n",
    "        ## Hint: you can iterate over a tuple like a list\n",
    "        alternate_bits = copy(query_bin_bits)\n",
    "        for i in different_bits:\n",
    "            alternate_bits[i] = ~query_bin_bits[i] \n",
    "        \n",
    "        # Convert the new bit vector to an integer index\n",
    "        nearby_bin = alternate_bits.dot(powers_of_two)\n",
    "        \n",
    "        # Fetch the list of documents belonging to the bin indexed by the new bit vector.\n",
    "        # Then add those documents to candidate_set\n",
    "        # Make sure that the bin exists in the table!\n",
    "        # Hint: update() method for sets lets you add an entire list to the set\n",
    "        if nearby_bin in table:\n",
    "            candidate_set.update(table[nearby_bin])\n",
    "            \n",
    "    return candidate_set"
   ]
  },
  {
   "cell_type": "code",
   "execution_count": 82,
   "metadata": {
    "collapsed": false
   },
   "outputs": [
    {
     "name": "stdout",
     "output_type": "stream",
     "text": [
      "Passed test\n"
     ]
    }
   ],
   "source": [
    "candidate_set = search_nearby_bins(bin_index_bits_obama, model['table'], search_radius=0)\n",
    "if candidate_set == set([35817, 21426, 53937, 39426, 50261]):\n",
    "    print('Passed test')\n",
    "else:\n",
    "    print('Check your code')"
   ]
  },
  {
   "cell_type": "code",
   "execution_count": 84,
   "metadata": {
    "collapsed": false
   },
   "outputs": [
    {
     "name": "stdout",
     "output_type": "stream",
     "text": [
      "Passed test\n"
     ]
    }
   ],
   "source": [
    "candidate_set = search_nearby_bins(bin_index_bits_obama, model['table'], search_radius=1, initial_candidates=candidate_set)\n",
    "if candidate_set == set([39426, 38155, 38412, 28444, 9757, 41631, 39207, 59050, 47773, 53937, 21426, 34547,\n",
    "                         23229, 55615, 39877, 27404, 33996, 21715, 50261, 21975, 33243, 58723, 35817, 45676,\n",
    "                         19699, 2804, 20347]):\n",
    "    print('Passed test')\n",
    "else:\n",
    "    print('Check your code')"
   ]
  },
  {
   "cell_type": "code",
   "execution_count": 92,
   "metadata": {
    "collapsed": false
   },
   "outputs": [],
   "source": [
    "def query(vec, model, k, max_search_radius):\n",
    "  \n",
    "    data = model['data']\n",
    "    table = model['table']\n",
    "    random_vectors = model['random_vectors']\n",
    "    num_vector = random_vectors.shape[1]\n",
    "        \n",
    "    # Compute bin index for the query vector, in bit representation.\n",
    "    bin_index_bits = (vec.dot(random_vectors) >= 0).flatten()\n",
    "    \n",
    "    # Search nearby bins and collect candidates\n",
    "    candidate_set = set()\n",
    "    for search_radius in range(max_search_radius+1):\n",
    "        candidate_set = search_nearby_bins(bin_index_bits, table, search_radius, initial_candidates=candidate_set)\n",
    "    \n",
    "    # Sort candidates by their true distances from the query\n",
    "    nearest_neighbors = pd.DataFrame(index=list(candidate_set))\n",
    "    candidates = data[np.array(list(candidate_set)),:]\n",
    "    nearest_neighbors['distance'] = pairwise_distances(candidates, vec, metric='cosine').flatten()\n",
    "    \n",
    "    return nearest_neighbors.sort_values('distance', ascending=True)[:k], len(candidate_set)"
   ]
  },
  {
   "cell_type": "code",
   "execution_count": 93,
   "metadata": {
    "collapsed": false
   },
   "outputs": [],
   "source": [
    "result, num_candidates_considered = query(corpus[35817,:], model, k=10, max_search_radius=3)"
   ]
  },
  {
   "cell_type": "code",
   "execution_count": 98,
   "metadata": {
    "collapsed": false
   },
   "outputs": [
    {
     "data": {
      "text/html": [
       "<div>\n",
       "<style>\n",
       "    .dataframe thead tr:only-child th {\n",
       "        text-align: right;\n",
       "    }\n",
       "\n",
       "    .dataframe thead th {\n",
       "        text-align: left;\n",
       "    }\n",
       "\n",
       "    .dataframe tbody tr th {\n",
       "        vertical-align: top;\n",
       "    }\n",
       "</style>\n",
       "<table border=\"1\" class=\"dataframe\">\n",
       "  <thead>\n",
       "    <tr style=\"text-align: right;\">\n",
       "      <th></th>\n",
       "      <th>name</th>\n",
       "      <th>distance</th>\n",
       "    </tr>\n",
       "  </thead>\n",
       "  <tbody>\n",
       "    <tr>\n",
       "      <th>35817</th>\n",
       "      <td>Barack Obama</td>\n",
       "      <td>0.000000</td>\n",
       "    </tr>\n",
       "    <tr>\n",
       "      <th>24478</th>\n",
       "      <td>Joe Biden</td>\n",
       "      <td>0.703139</td>\n",
       "    </tr>\n",
       "    <tr>\n",
       "      <th>56008</th>\n",
       "      <td>Nathan Cullen</td>\n",
       "      <td>0.856848</td>\n",
       "    </tr>\n",
       "    <tr>\n",
       "      <th>37199</th>\n",
       "      <td>Barry Sullivan (lawyer)</td>\n",
       "      <td>0.874669</td>\n",
       "    </tr>\n",
       "    <tr>\n",
       "      <th>40353</th>\n",
       "      <td>Neil MacBride</td>\n",
       "      <td>0.890034</td>\n",
       "    </tr>\n",
       "    <tr>\n",
       "      <th>9267</th>\n",
       "      <td>Vikramaditya Khanna</td>\n",
       "      <td>0.898377</td>\n",
       "    </tr>\n",
       "    <tr>\n",
       "      <th>55909</th>\n",
       "      <td>Herman Cain</td>\n",
       "      <td>0.899340</td>\n",
       "    </tr>\n",
       "    <tr>\n",
       "      <th>9165</th>\n",
       "      <td>Raymond F. Clevenger</td>\n",
       "      <td>0.900921</td>\n",
       "    </tr>\n",
       "    <tr>\n",
       "      <th>57958</th>\n",
       "      <td>Michael J. Malbin</td>\n",
       "      <td>0.903003</td>\n",
       "    </tr>\n",
       "    <tr>\n",
       "      <th>49872</th>\n",
       "      <td>Lowell Barron</td>\n",
       "      <td>0.909533</td>\n",
       "    </tr>\n",
       "  </tbody>\n",
       "</table>\n",
       "</div>"
      ],
      "text/plain": [
       "                          name  distance\n",
       "35817             Barack Obama  0.000000\n",
       "24478                Joe Biden  0.703139\n",
       "56008            Nathan Cullen  0.856848\n",
       "37199  Barry Sullivan (lawyer)  0.874669\n",
       "40353            Neil MacBride  0.890034\n",
       "9267       Vikramaditya Khanna  0.898377\n",
       "55909              Herman Cain  0.899340\n",
       "9165      Raymond F. Clevenger  0.900921\n",
       "57958        Michael J. Malbin  0.903003\n",
       "49872            Lowell Barron  0.909533"
      ]
     },
     "execution_count": 98,
     "metadata": {},
     "output_type": "execute_result"
    }
   ],
   "source": [
    "result.join(wiki)[['name', 'distance']]"
   ]
  },
  {
   "cell_type": "code",
   "execution_count": 103,
   "metadata": {
    "collapsed": false,
    "scrolled": false
   },
   "outputs": [
    {
     "name": "stdout",
     "output_type": "stream",
     "text": [
      "=================\n",
      "Radius: 0\n",
      "       distance                     name\n",
      "35817  0.000000             Barack Obama\n",
      "21426  0.950867            Mark Boulware\n",
      "39426  0.975966  John Wells (politician)\n",
      "50261  0.978256        Francis Longstaff\n",
      "53937  0.993092    Madurai T. Srinivasan\n",
      "=================\n",
      "Radius: 1\n",
      "       distance                                   name\n",
      "35817  0.000000                           Barack Obama\n",
      "41631  0.947459                            Binayak Sen\n",
      "21426  0.950867                          Mark Boulware\n",
      "33243  0.951766                        Janice Lachance\n",
      "33996  0.960859                            Rufus Black\n",
      "28444  0.961081                       John Paul Phelan\n",
      "20347  0.974130                        Gianni De Fraja\n",
      "39426  0.975966                John Wells (politician)\n",
      "34547  0.978215  Nathan Murphy (Australian politician)\n",
      "50261  0.978256                      Francis Longstaff\n",
      "=================\n",
      "Radius: 2\n",
      "       distance                 name\n",
      "35817  0.000000         Barack Obama\n",
      "24478  0.703139            Joe Biden\n",
      "9267   0.898377  Vikramaditya Khanna\n",
      "55909  0.899340          Herman Cain\n",
      "6949   0.925713   Harrison J. Goldin\n",
      "23524  0.926398        Paul Bennecke\n",
      "5823   0.928498       Adeleke Mamora\n",
      "37262  0.934454           Becky Cain\n",
      "10121  0.936896         Bill Bradley\n",
      "54782  0.937809   Thomas F. Hartnett\n",
      "=================\n",
      "Radius: 3\n",
      "       distance                     name\n",
      "35817  0.000000             Barack Obama\n",
      "24478  0.703139                Joe Biden\n",
      "56008  0.856848            Nathan Cullen\n",
      "37199  0.874669  Barry Sullivan (lawyer)\n",
      "40353  0.890034            Neil MacBride\n",
      "9267   0.898377      Vikramaditya Khanna\n",
      "55909  0.899340              Herman Cain\n",
      "9165   0.900921     Raymond F. Clevenger\n",
      "57958  0.903003        Michael J. Malbin\n",
      "49872  0.909533            Lowell Barron\n",
      "=================\n",
      "Radius: 4\n",
      "       distance                name\n",
      "35817  0.000000        Barack Obama\n",
      "24478  0.703139           Joe Biden\n",
      "36452  0.833985        Bill Clinton\n",
      "24848  0.839407     John C. Eastman\n",
      "43155  0.840839         Goodwin Liu\n",
      "42965  0.849078     John O. Brennan\n",
      "56008  0.856848       Nathan Cullen\n",
      "38495  0.857574        Barney Frank\n",
      "18752  0.858899      Dan W. Reicher\n",
      "2092   0.874643  Richard Blumenthal\n",
      "=================\n",
      "Radius: 5\n",
      "       distance                     name\n",
      "35817  0.000000             Barack Obama\n",
      "24478  0.703139                Joe Biden\n",
      "38714  0.770561  Eric Stern (politician)\n",
      "46811  0.800197            Jeff Sessions\n",
      "14754  0.826854              Mitt Romney\n",
      "36452  0.833985             Bill Clinton\n",
      "40943  0.834535           Jonathan Alter\n",
      "55044  0.837013             Wesley Clark\n",
      "24848  0.839407          John C. Eastman\n",
      "43155  0.840839              Goodwin Liu\n",
      "=================\n",
      "Radius: 6\n",
      "       distance                     name\n",
      "35817  0.000000             Barack Obama\n",
      "24478  0.703139                Joe Biden\n",
      "38714  0.770561  Eric Stern (politician)\n",
      "44681  0.790926   Jesse Lee (politician)\n",
      "46811  0.800197            Jeff Sessions\n",
      "48693  0.809192              Artur Davis\n",
      "23737  0.810165        John D. McCormick\n",
      "4032   0.814555      Kenneth D. Thompson\n",
      "28447  0.823229           George W. Bush\n",
      "14754  0.826854              Mitt Romney\n",
      "=================\n",
      "Radius: 7\n",
      "       distance                     name\n",
      "35817  0.000000             Barack Obama\n",
      "24478  0.703139                Joe Biden\n",
      "38376  0.742982           Samantha Power\n",
      "57108  0.758358   Hillary Rodham Clinton\n",
      "38714  0.770561  Eric Stern (politician)\n",
      "44681  0.790926   Jesse Lee (politician)\n",
      "18827  0.798323             Henry Waxman\n",
      "46811  0.800197            Jeff Sessions\n",
      "48693  0.809192              Artur Davis\n",
      "23737  0.810165        John D. McCormick\n",
      "=================\n",
      "Radius: 8\n",
      "       distance                     name\n",
      "35817  0.000000             Barack Obama\n",
      "24478  0.703139                Joe Biden\n",
      "38376  0.742982           Samantha Power\n",
      "57108  0.758358   Hillary Rodham Clinton\n",
      "38714  0.770561  Eric Stern (politician)\n",
      "44681  0.790926   Jesse Lee (politician)\n",
      "18827  0.798323             Henry Waxman\n",
      "46811  0.800197            Jeff Sessions\n",
      "48693  0.809192              Artur Davis\n",
      "23737  0.810165        John D. McCormick\n",
      "=================\n",
      "Radius: 9\n",
      "       distance                     name\n",
      "35817  0.000000             Barack Obama\n",
      "24478  0.703139                Joe Biden\n",
      "38376  0.742982           Samantha Power\n",
      "57108  0.758358   Hillary Rodham Clinton\n",
      "38714  0.770561  Eric Stern (politician)\n",
      "46140  0.784678             Robert Gibbs\n",
      "44681  0.790926   Jesse Lee (politician)\n",
      "18827  0.798323             Henry Waxman\n",
      "46811  0.800197            Jeff Sessions\n",
      "39357  0.809051              John McCain\n",
      "=================\n",
      "Radius: 10\n",
      "       distance                     name\n",
      "35817  0.000000             Barack Obama\n",
      "24478  0.703139                Joe Biden\n",
      "38376  0.742982           Samantha Power\n",
      "57108  0.758358   Hillary Rodham Clinton\n",
      "38714  0.770561  Eric Stern (politician)\n",
      "46140  0.784678             Robert Gibbs\n",
      "44681  0.790926   Jesse Lee (politician)\n",
      "18827  0.798323             Henry Waxman\n",
      "2412   0.799466          Joe the Plumber\n",
      "46811  0.800197            Jeff Sessions\n",
      "=================\n",
      "Radius: 11\n",
      "       distance                     name\n",
      "35817  0.000000             Barack Obama\n",
      "24478  0.703139                Joe Biden\n",
      "38376  0.742982           Samantha Power\n",
      "57108  0.758358   Hillary Rodham Clinton\n",
      "38714  0.770561  Eric Stern (politician)\n",
      "46140  0.784678             Robert Gibbs\n",
      "44681  0.790926   Jesse Lee (politician)\n",
      "18827  0.798323             Henry Waxman\n",
      "2412   0.799466          Joe the Plumber\n",
      "46811  0.800197            Jeff Sessions\n",
      "=================\n",
      "Radius: 12\n",
      "       distance                     name\n",
      "35817  0.000000             Barack Obama\n",
      "24478  0.703139                Joe Biden\n",
      "38376  0.742982           Samantha Power\n",
      "57108  0.758358   Hillary Rodham Clinton\n",
      "38714  0.770561  Eric Stern (politician)\n",
      "46140  0.784678             Robert Gibbs\n",
      "6796   0.788039              Eric Holder\n",
      "44681  0.790926   Jesse Lee (politician)\n",
      "18827  0.798323             Henry Waxman\n",
      "2412   0.799466          Joe the Plumber\n",
      "=================\n",
      "Radius: 13\n",
      "       distance                     name\n",
      "35817  0.000000             Barack Obama\n",
      "24478  0.703139                Joe Biden\n",
      "38376  0.742982           Samantha Power\n",
      "57108  0.758358   Hillary Rodham Clinton\n",
      "38714  0.770561  Eric Stern (politician)\n",
      "46140  0.784678             Robert Gibbs\n",
      "6796   0.788039              Eric Holder\n",
      "44681  0.790926   Jesse Lee (politician)\n",
      "18827  0.798323             Henry Waxman\n",
      "2412   0.799466          Joe the Plumber\n",
      "=================\n",
      "Radius: 14\n",
      "       distance                     name\n",
      "35817  0.000000             Barack Obama\n",
      "24478  0.703139                Joe Biden\n",
      "38376  0.742982           Samantha Power\n",
      "57108  0.758358   Hillary Rodham Clinton\n",
      "38714  0.770561  Eric Stern (politician)\n",
      "46140  0.784678             Robert Gibbs\n",
      "6796   0.788039              Eric Holder\n",
      "44681  0.790926   Jesse Lee (politician)\n",
      "18827  0.798323             Henry Waxman\n",
      "2412   0.799466          Joe the Plumber\n",
      "=================\n",
      "Radius: 15\n",
      "       distance                     name\n",
      "35817  0.000000             Barack Obama\n",
      "24478  0.703139                Joe Biden\n",
      "38376  0.742982           Samantha Power\n",
      "57108  0.758358   Hillary Rodham Clinton\n",
      "38714  0.770561  Eric Stern (politician)\n",
      "46140  0.784678             Robert Gibbs\n",
      "6796   0.788039              Eric Holder\n",
      "44681  0.790926   Jesse Lee (politician)\n",
      "18827  0.798323             Henry Waxman\n",
      "2412   0.799466          Joe the Plumber\n",
      "=================\n",
      "Radius: 16\n",
      "       distance                     name\n",
      "35817  0.000000             Barack Obama\n",
      "24478  0.703139                Joe Biden\n",
      "38376  0.742982           Samantha Power\n",
      "57108  0.758358   Hillary Rodham Clinton\n",
      "38714  0.770561  Eric Stern (politician)\n",
      "46140  0.784678             Robert Gibbs\n",
      "6796   0.788039              Eric Holder\n",
      "44681  0.790926   Jesse Lee (politician)\n",
      "18827  0.798323             Henry Waxman\n",
      "2412   0.799466          Joe the Plumber\n"
     ]
    }
   ],
   "source": [
    "num_candidates_history = []\n",
    "query_time_history = []\n",
    "max_distance_from_query_history = []\n",
    "min_distance_from_query_history = []\n",
    "average_distance_from_query_history = []\n",
    "\n",
    "for max_search_radius in range(17):\n",
    "    start=time.time()\n",
    "    # Perform LSH query using Barack Obama, with max_search_radius\n",
    "    result, num_candidates = query(corpus[35817,:], model, k=10,\n",
    "                                   max_search_radius=max_search_radius)\n",
    "    end=time.time()\n",
    "    query_time = end-start  # Measure time\n",
    "    \n",
    "    print('=================')\n",
    "    print('Radius:', max_search_radius)\n",
    "    # Display 10 nearest neighbors, along with document ID and name\n",
    "    print(result.join(wiki[['name']]).sort_values('distance'))\n",
    "    \n",
    "    # Collect statistics on 10 nearest neighbors\n",
    "    average_distance_from_query = result['distance'][1:].mean()\n",
    "    max_distance_from_query = result['distance'][1:].max()\n",
    "    min_distance_from_query = result['distance'][1:].min()\n",
    "    \n",
    "    num_candidates_history.append(num_candidates)\n",
    "    query_time_history.append(query_time)\n",
    "    average_distance_from_query_history.append(average_distance_from_query)\n",
    "    max_distance_from_query_history.append(max_distance_from_query)\n",
    "    min_distance_from_query_history.append(min_distance_from_query)"
   ]
  },
  {
   "cell_type": "code",
   "execution_count": 104,
   "metadata": {
    "collapsed": false
   },
   "outputs": [
    {
     "data": {
      "image/png": "[encoded data removed]",
      "text/plain": [
       "<matplotlib.figure.Figure at 0x13e5235f8>"
      ]
     },
     "metadata": {},
     "output_type": "display_data"
    },
    {
     "data": {
      "image/png": "[encoded data removed]",
      "text/plain": [
       "<matplotlib.figure.Figure at 0x13e523c18>"
      ]
     },
     "metadata": {},
     "output_type": "display_data"
    },
    {
     "data": {
      "image/png": "[encoded data removed]",
      "text/plain": [
       "<matplotlib.figure.Figure at 0x119f84588>"
      ]
     },
     "metadata": {},
     "output_type": "display_data"
    }
   ],
   "source": [
    "plt.figure(figsize=(7,4.5))\n",
    "plt.plot(num_candidates_history, linewidth=4)\n",
    "plt.xlabel('Search radius')\n",
    "plt.ylabel('# of documents searched')\n",
    "plt.rcParams.update({'font.size':16})\n",
    "plt.tight_layout()\n",
    "\n",
    "plt.figure(figsize=(7,4.5))\n",
    "plt.plot(query_time_history, linewidth=4)\n",
    "plt.xlabel('Search radius')\n",
    "plt.ylabel('Query time (seconds)')\n",
    "plt.rcParams.update({'font.size':16})\n",
    "plt.tight_layout()\n",
    "\n",
    "plt.figure(figsize=(7,4.5))\n",
    "plt.plot(average_distance_from_query_history, linewidth=4, label='Average of 10 neighbors')\n",
    "plt.plot(max_distance_from_query_history, linewidth=4, label='Farthest of 10 neighbors')\n",
    "plt.plot(min_distance_from_query_history, linewidth=4, label='Closest of 10 neighbors')\n",
    "plt.xlabel('Search radius')\n",
    "plt.ylabel('Cosine distance of neighbors')\n",
    "plt.legend(loc='best', prop={'size':15})\n",
    "plt.rcParams.update({'font.size':16})\n",
    "plt.tight_layout()"
   ]
  },
  {
   "cell_type": "markdown",
   "metadata": {},
   "source": [
    "## Quiz Question. \n",
    "What was the smallest search radius that yielded the correct nearest neighbor, namely Joe Biden?\n",
    "\n",
    "## Quiz Question. \n",
    "Suppose our goal was to produce 10 approximate nearest neighbors whose average distance from the query document is within 0.01 of the average for the true 10 nearest neighbors. For Barack Obama, the true 10 nearest neighbors are on average about 0.77. What was the smallest search radius for Barack Obama that produced an average distance of 0.78 or better?"
   ]
  },
  {
   "cell_type": "code",
   "execution_count": 109,
   "metadata": {
    "collapsed": false
   },
   "outputs": [
    {
     "name": "stdout",
     "output_type": "stream",
     "text": [
      "7\n"
     ]
    }
   ],
   "source": [
    "for i, dist in enumerate(average_distance_from_query_history):\n",
    "    if dist <= 0.78:\n",
    "        print(i)\n",
    "        break"
   ]
  },
  {
   "cell_type": "code",
   "execution_count": 110,
   "metadata": {
    "collapsed": false
   },
   "outputs": [],
   "source": [
    "def brute_force_query(vec, data, k):\n",
    "    num_data_points = data.shape[0]\n",
    "    \n",
    "    # Compute distances for ALL data points in training set\n",
    "    nearest_neighbors = pd.DataFrame(index=range(num_data_points))\n",
    "    nearest_neighbors['distance'] = pairwise_distances(data, vec, metric='cosine').flatten()\n",
    "    \n",
    "    return nearest_neighbors.sort_values(by='distance')[:k]"
   ]
  },
  {
   "cell_type": "code",
   "execution_count": null,
   "metadata": {
    "collapsed": true
   },
   "outputs": [],
   "source": []
  }
 ],
 "metadata": {
  "kernelspec": {
   "display_name": "Python 3",
   "language": "python",
   "name": "python3"
  },
  "language_info": {
   "codemirror_mode": {
    "name": "ipython",
    "version": 3
   },
   "file_extension": ".py",
   "mimetype": "text/x-python",
   "name": "python",
   "nbconvert_exporter": "python",
   "pygments_lexer": "ipython3",
   "version": "3.6.0"
  }
 },
 "nbformat": 4,
 "nbformat_minor": 2
}
